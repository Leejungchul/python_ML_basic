{
 "cells": [
  {
   "cell_type": "markdown",
   "id": "fada8ba8",
   "metadata": {},
   "source": [
    "# 분류 알고리즘\n",
    "---\n",
    "## K-NN\n",
    "- 과거의 데이터를 기억하고 새로운 데이터에 대해서 가장 가까운 유사도(거리)를 가진 기존 데이터에 따라서 분류\n",
    "- 비선형 모델\n",
    "- Y가 범주형일 때 사용\n",
    "- Y가 연속형인 경우 가장 가까운 데이터의 평균으로 새로운 데이터를 예측(평균이 가장 정확)\n",
    "- k가 1인 경우는 과대적합 발생\n",
    "- k가 클 수록 결정경계가 완만해지지만 과소적합 발생\n",
    "\n",
    "\n",
    "K값 정하는 법\n",
    "- 학습 error와 테스트 error가 최소가 되는 k값을 찾아야 함\n",
    "\n",
    "<br/>\n",
    "\n",
    "> 거리 계산(두 점 사이 거리)\n",
    "> - 유클리드 거리 : 일반적으로 사용하는 피타고라스의 거리와 같은 거리 측정법\n",
    "> - 맨하탄 거리 : 삼각형에서 ㄱ에 해당하는 거리를 더하는 측정법\n",
    "> - Norm(놈) : 벡터의 길이, 크기를 측정하는 방법\n"
   ]
  },
  {
   "cell_type": "code",
   "execution_count": 108,
   "id": "30da6cc2",
   "metadata": {},
   "outputs": [],
   "source": [
    "# citrus : orange와 grapefruit을 분류하는 것이 목표\n",
    "# binary분류"
   ]
  },
  {
   "cell_type": "code",
   "execution_count": 109,
   "id": "a4e3a1d9",
   "metadata": {},
   "outputs": [],
   "source": [
    "import pandas as pd\n",
    "import numpy as np\n",
    "import matplotlib.pyplot as plt\n",
    "import seaborn as sns\n",
    "\n",
    "import sklearn"
   ]
  },
  {
   "cell_type": "code",
   "execution_count": 110,
   "id": "dbc52064",
   "metadata": {},
   "outputs": [
    {
     "data": {
      "text/plain": [
       "(10000, 6)"
      ]
     },
     "execution_count": 110,
     "metadata": {},
     "output_type": "execute_result"
    }
   ],
   "source": [
    "# 데이터 읽기\n",
    "citrus = pd.read_csv('./dataset/citrus.csv')\n",
    "citrus.shape"
   ]
  },
  {
   "cell_type": "code",
   "execution_count": 111,
   "id": "60d39014",
   "metadata": {},
   "outputs": [
    {
     "data": {
      "text/html": [
       "<div>\n",
       "<style scoped>\n",
       "    .dataframe tbody tr th:only-of-type {\n",
       "        vertical-align: middle;\n",
       "    }\n",
       "\n",
       "    .dataframe tbody tr th {\n",
       "        vertical-align: top;\n",
       "    }\n",
       "\n",
       "    .dataframe thead th {\n",
       "        text-align: right;\n",
       "    }\n",
       "</style>\n",
       "<table border=\"1\" class=\"dataframe\">\n",
       "  <thead>\n",
       "    <tr style=\"text-align: right;\">\n",
       "      <th></th>\n",
       "      <th>name</th>\n",
       "      <th>diameter</th>\n",
       "      <th>weight</th>\n",
       "      <th>red</th>\n",
       "      <th>green</th>\n",
       "      <th>blue</th>\n",
       "    </tr>\n",
       "  </thead>\n",
       "  <tbody>\n",
       "    <tr>\n",
       "      <th>0</th>\n",
       "      <td>orange</td>\n",
       "      <td>2.96</td>\n",
       "      <td>86.76</td>\n",
       "      <td>172</td>\n",
       "      <td>85</td>\n",
       "      <td>2</td>\n",
       "    </tr>\n",
       "    <tr>\n",
       "      <th>1</th>\n",
       "      <td>orange</td>\n",
       "      <td>3.91</td>\n",
       "      <td>88.05</td>\n",
       "      <td>166</td>\n",
       "      <td>78</td>\n",
       "      <td>3</td>\n",
       "    </tr>\n",
       "    <tr>\n",
       "      <th>2</th>\n",
       "      <td>orange</td>\n",
       "      <td>4.42</td>\n",
       "      <td>95.17</td>\n",
       "      <td>156</td>\n",
       "      <td>81</td>\n",
       "      <td>2</td>\n",
       "    </tr>\n",
       "    <tr>\n",
       "      <th>3</th>\n",
       "      <td>orange</td>\n",
       "      <td>4.47</td>\n",
       "      <td>95.60</td>\n",
       "      <td>163</td>\n",
       "      <td>81</td>\n",
       "      <td>4</td>\n",
       "    </tr>\n",
       "    <tr>\n",
       "      <th>4</th>\n",
       "      <td>orange</td>\n",
       "      <td>4.48</td>\n",
       "      <td>95.76</td>\n",
       "      <td>161</td>\n",
       "      <td>72</td>\n",
       "      <td>9</td>\n",
       "    </tr>\n",
       "  </tbody>\n",
       "</table>\n",
       "</div>"
      ],
      "text/plain": [
       "     name  diameter  weight  red  green  blue\n",
       "0  orange      2.96   86.76  172     85     2\n",
       "1  orange      3.91   88.05  166     78     3\n",
       "2  orange      4.42   95.17  156     81     2\n",
       "3  orange      4.47   95.60  163     81     4\n",
       "4  orange      4.48   95.76  161     72     9"
      ]
     },
     "execution_count": 111,
     "metadata": {},
     "output_type": "execute_result"
    }
   ],
   "source": [
    "citrus.head()"
   ]
  },
  {
   "cell_type": "code",
   "execution_count": 112,
   "id": "9216bd81",
   "metadata": {},
   "outputs": [
    {
     "data": {
      "text/plain": [
       "array(['orange', 'grapefruit'], dtype=object)"
      ]
     },
     "execution_count": 112,
     "metadata": {},
     "output_type": "execute_result"
    }
   ],
   "source": [
    "# 타겟 데이터 데이터 확인\n",
    "citrus.name.unique()"
   ]
  },
  {
   "cell_type": "code",
   "execution_count": 113,
   "id": "c83655b7",
   "metadata": {},
   "outputs": [
    {
     "data": {
      "text/plain": [
       "orange        5000\n",
       "grapefruit    5000\n",
       "Name: name, dtype: int64"
      ]
     },
     "execution_count": 113,
     "metadata": {},
     "output_type": "execute_result"
    }
   ],
   "source": [
    "# 타겟 데이터의 데이터 개수 확인\n",
    "citrus.name.value_counts()"
   ]
  },
  {
   "cell_type": "code",
   "execution_count": 114,
   "id": "41cbd1d0",
   "metadata": {},
   "outputs": [
    {
     "name": "stdout",
     "output_type": "stream",
     "text": [
      "<class 'pandas.core.frame.DataFrame'>\n",
      "RangeIndex: 10000 entries, 0 to 9999\n",
      "Data columns (total 6 columns):\n",
      " #   Column    Non-Null Count  Dtype  \n",
      "---  ------    --------------  -----  \n",
      " 0   name      10000 non-null  object \n",
      " 1   diameter  10000 non-null  float64\n",
      " 2   weight    10000 non-null  float64\n",
      " 3   red       10000 non-null  int64  \n",
      " 4   green     10000 non-null  int64  \n",
      " 5   blue      10000 non-null  int64  \n",
      "dtypes: float64(2), int64(3), object(1)\n",
      "memory usage: 468.9+ KB\n"
     ]
    }
   ],
   "source": [
    "citrus.info()  # name 데이터 인코딩 해줘야 함"
   ]
  },
  {
   "cell_type": "code",
   "execution_count": 115,
   "id": "5ffd8a44",
   "metadata": {},
   "outputs": [
    {
     "data": {
      "text/plain": [
       "name        0\n",
       "diameter    0\n",
       "weight      0\n",
       "red         0\n",
       "green       0\n",
       "blue        0\n",
       "dtype: int64"
      ]
     },
     "execution_count": 115,
     "metadata": {},
     "output_type": "execute_result"
    }
   ],
   "source": [
    "# 결측치 확인\n",
    "citrus.isna().sum()"
   ]
  },
  {
   "cell_type": "code",
   "execution_count": 116,
   "id": "63af41c6",
   "metadata": {},
   "outputs": [
    {
     "data": {
      "text/html": [
       "<div>\n",
       "<style scoped>\n",
       "    .dataframe tbody tr th:only-of-type {\n",
       "        vertical-align: middle;\n",
       "    }\n",
       "\n",
       "    .dataframe tbody tr th {\n",
       "        vertical-align: top;\n",
       "    }\n",
       "\n",
       "    .dataframe thead th {\n",
       "        text-align: right;\n",
       "    }\n",
       "</style>\n",
       "<table border=\"1\" class=\"dataframe\">\n",
       "  <thead>\n",
       "    <tr style=\"text-align: right;\">\n",
       "      <th></th>\n",
       "      <th>name</th>\n",
       "      <th>diameter</th>\n",
       "      <th>weight</th>\n",
       "      <th>red</th>\n",
       "      <th>green</th>\n",
       "      <th>blue</th>\n",
       "    </tr>\n",
       "  </thead>\n",
       "  <tbody>\n",
       "  </tbody>\n",
       "</table>\n",
       "</div>"
      ],
      "text/plain": [
       "Empty DataFrame\n",
       "Columns: [name, diameter, weight, red, green, blue]\n",
       "Index: []"
      ]
     },
     "execution_count": 116,
     "metadata": {},
     "output_type": "execute_result"
    }
   ],
   "source": [
    "# 중복 확인\n",
    "citrus[citrus.duplicated()]  # 중복 데이터가 없는 거 확인"
   ]
  },
  {
   "cell_type": "code",
   "execution_count": 117,
   "id": "3e521e33",
   "metadata": {},
   "outputs": [
    {
     "data": {
      "image/png": "[encoded data removed]",
      "text/plain": [
       "<Figure size 445.875x360 with 1 Axes>"
      ]
     },
     "metadata": {
      "needs_background": "light"
     },
     "output_type": "display_data"
    }
   ],
   "source": [
    "# 시각화\n",
    "sns.displot(data=citrus, x = 'diameter', hue='name', kind='kde')  # kde : 선그래프로 표현\n",
    "plt.show()"
   ]
  },
  {
   "cell_type": "markdown",
   "id": "43c5548b",
   "metadata": {},
   "source": [
    "### 데이터 전처리\n",
    "---"
   ]
  },
  {
   "cell_type": "code",
   "execution_count": 118,
   "id": "c7d24318",
   "metadata": {
    "scrolled": true
   },
   "outputs": [
    {
     "data": {
      "text/html": [
       "<div>\n",
       "<style scoped>\n",
       "    .dataframe tbody tr th:only-of-type {\n",
       "        vertical-align: middle;\n",
       "    }\n",
       "\n",
       "    .dataframe tbody tr th {\n",
       "        vertical-align: top;\n",
       "    }\n",
       "\n",
       "    .dataframe thead th {\n",
       "        text-align: right;\n",
       "    }\n",
       "</style>\n",
       "<table border=\"1\" class=\"dataframe\">\n",
       "  <thead>\n",
       "    <tr style=\"text-align: right;\">\n",
       "      <th></th>\n",
       "      <th>name</th>\n",
       "      <th>diameter</th>\n",
       "      <th>weight</th>\n",
       "      <th>red</th>\n",
       "      <th>green</th>\n",
       "      <th>blue</th>\n",
       "    </tr>\n",
       "  </thead>\n",
       "  <tbody>\n",
       "    <tr>\n",
       "      <th>0</th>\n",
       "      <td>orange</td>\n",
       "      <td>2.96</td>\n",
       "      <td>86.76</td>\n",
       "      <td>172</td>\n",
       "      <td>85</td>\n",
       "      <td>2</td>\n",
       "    </tr>\n",
       "    <tr>\n",
       "      <th>1</th>\n",
       "      <td>orange</td>\n",
       "      <td>3.91</td>\n",
       "      <td>88.05</td>\n",
       "      <td>166</td>\n",
       "      <td>78</td>\n",
       "      <td>3</td>\n",
       "    </tr>\n",
       "    <tr>\n",
       "      <th>2</th>\n",
       "      <td>orange</td>\n",
       "      <td>4.42</td>\n",
       "      <td>95.17</td>\n",
       "      <td>156</td>\n",
       "      <td>81</td>\n",
       "      <td>2</td>\n",
       "    </tr>\n",
       "    <tr>\n",
       "      <th>3</th>\n",
       "      <td>orange</td>\n",
       "      <td>4.47</td>\n",
       "      <td>95.60</td>\n",
       "      <td>163</td>\n",
       "      <td>81</td>\n",
       "      <td>4</td>\n",
       "    </tr>\n",
       "    <tr>\n",
       "      <th>4</th>\n",
       "      <td>orange</td>\n",
       "      <td>4.48</td>\n",
       "      <td>95.76</td>\n",
       "      <td>161</td>\n",
       "      <td>72</td>\n",
       "      <td>9</td>\n",
       "    </tr>\n",
       "  </tbody>\n",
       "</table>\n",
       "</div>"
      ],
      "text/plain": [
       "     name  diameter  weight  red  green  blue\n",
       "0  orange      2.96   86.76  172     85     2\n",
       "1  orange      3.91   88.05  166     78     3\n",
       "2  orange      4.42   95.17  156     81     2\n",
       "3  orange      4.47   95.60  163     81     4\n",
       "4  orange      4.48   95.76  161     72     9"
      ]
     },
     "execution_count": 118,
     "metadata": {},
     "output_type": "execute_result"
    }
   ],
   "source": [
    "df = citrus.copy()\n",
    "df.head()"
   ]
  },
  {
   "cell_type": "markdown",
   "id": "a45d72aa",
   "metadata": {},
   "source": [
    "####  1) 레이블 인코딩\n",
    "- map \n",
    "- label 인코딩\n",
    "---"
   ]
  },
  {
   "cell_type": "markdown",
   "id": "c72f2d55",
   "metadata": {},
   "source": [
    "#### map 방법"
   ]
  },
  {
   "cell_type": "code",
   "execution_count": 119,
   "id": "3460d23d",
   "metadata": {},
   "outputs": [],
   "source": [
    "# df['name'] = df['name'].map({'orange':1, 'grapefruit':0})"
   ]
  },
  {
   "cell_type": "code",
   "execution_count": 120,
   "id": "3e473e07",
   "metadata": {},
   "outputs": [],
   "source": [
    "# df.head()"
   ]
  },
  {
   "cell_type": "markdown",
   "id": "d885a122",
   "metadata": {},
   "source": [
    "\n",
    "#### label 인코딩 방법"
   ]
  },
  {
   "cell_type": "code",
   "execution_count": 121,
   "id": "b0d98fe0",
   "metadata": {},
   "outputs": [
    {
     "data": {
      "text/html": [
       "<div>\n",
       "<style scoped>\n",
       "    .dataframe tbody tr th:only-of-type {\n",
       "        vertical-align: middle;\n",
       "    }\n",
       "\n",
       "    .dataframe tbody tr th {\n",
       "        vertical-align: top;\n",
       "    }\n",
       "\n",
       "    .dataframe thead th {\n",
       "        text-align: right;\n",
       "    }\n",
       "</style>\n",
       "<table border=\"1\" class=\"dataframe\">\n",
       "  <thead>\n",
       "    <tr style=\"text-align: right;\">\n",
       "      <th></th>\n",
       "      <th>name</th>\n",
       "      <th>diameter</th>\n",
       "      <th>weight</th>\n",
       "      <th>red</th>\n",
       "      <th>green</th>\n",
       "      <th>blue</th>\n",
       "    </tr>\n",
       "  </thead>\n",
       "  <tbody>\n",
       "    <tr>\n",
       "      <th>0</th>\n",
       "      <td>1</td>\n",
       "      <td>2.96</td>\n",
       "      <td>86.76</td>\n",
       "      <td>172</td>\n",
       "      <td>85</td>\n",
       "      <td>2</td>\n",
       "    </tr>\n",
       "    <tr>\n",
       "      <th>1</th>\n",
       "      <td>1</td>\n",
       "      <td>3.91</td>\n",
       "      <td>88.05</td>\n",
       "      <td>166</td>\n",
       "      <td>78</td>\n",
       "      <td>3</td>\n",
       "    </tr>\n",
       "    <tr>\n",
       "      <th>2</th>\n",
       "      <td>1</td>\n",
       "      <td>4.42</td>\n",
       "      <td>95.17</td>\n",
       "      <td>156</td>\n",
       "      <td>81</td>\n",
       "      <td>2</td>\n",
       "    </tr>\n",
       "    <tr>\n",
       "      <th>3</th>\n",
       "      <td>1</td>\n",
       "      <td>4.47</td>\n",
       "      <td>95.60</td>\n",
       "      <td>163</td>\n",
       "      <td>81</td>\n",
       "      <td>4</td>\n",
       "    </tr>\n",
       "    <tr>\n",
       "      <th>4</th>\n",
       "      <td>1</td>\n",
       "      <td>4.48</td>\n",
       "      <td>95.76</td>\n",
       "      <td>161</td>\n",
       "      <td>72</td>\n",
       "      <td>9</td>\n",
       "    </tr>\n",
       "  </tbody>\n",
       "</table>\n",
       "</div>"
      ],
      "text/plain": [
       "   name  diameter  weight  red  green  blue\n",
       "0     1      2.96   86.76  172     85     2\n",
       "1     1      3.91   88.05  166     78     3\n",
       "2     1      4.42   95.17  156     81     2\n",
       "3     1      4.47   95.60  163     81     4\n",
       "4     1      4.48   95.76  161     72     9"
      ]
     },
     "execution_count": 121,
     "metadata": {},
     "output_type": "execute_result"
    }
   ],
   "source": [
    "from sklearn.preprocessing import LabelEncoder \n",
    "\n",
    "le = LabelEncoder()   # 객체 생성\n",
    "le.fit(df['name'])   # fit:학습/전처리\n",
    "\n",
    "df['name'] = le.transform(df['name'])   # 데이터 실제로 변환\n",
    "\n",
    "\n",
    "# df['name'] = le.fit_transform(df['name'])  # fit과 transform을 같이 수행\n",
    "\n",
    "df.head()"
   ]
  },
  {
   "cell_type": "code",
   "execution_count": 122,
   "id": "1771076e",
   "metadata": {},
   "outputs": [
    {
     "data": {
      "text/plain": [
       "array(['grapefruit', 'orange'], dtype=object)"
      ]
     },
     "execution_count": 122,
     "metadata": {},
     "output_type": "execute_result"
    }
   ],
   "source": [
    "le.classes_  # 변환 전 값 확인"
   ]
  },
  {
   "cell_type": "code",
   "execution_count": 123,
   "id": "6009b296",
   "metadata": {},
   "outputs": [],
   "source": [
    "# 참고) inverse_transform : 숫자에서 인덱스로 변환"
   ]
  },
  {
   "cell_type": "markdown",
   "id": "8d73fe89",
   "metadata": {},
   "source": [
    "#### 2) 데이터 분리 - 학습 데이터 / 테스트 데이터\n",
    "---"
   ]
  },
  {
   "cell_type": "code",
   "execution_count": 124,
   "id": "b20792f6",
   "metadata": {},
   "outputs": [
    {
     "data": {
      "text/html": [
       "<div>\n",
       "<style scoped>\n",
       "    .dataframe tbody tr th:only-of-type {\n",
       "        vertical-align: middle;\n",
       "    }\n",
       "\n",
       "    .dataframe tbody tr th {\n",
       "        vertical-align: top;\n",
       "    }\n",
       "\n",
       "    .dataframe thead th {\n",
       "        text-align: right;\n",
       "    }\n",
       "</style>\n",
       "<table border=\"1\" class=\"dataframe\">\n",
       "  <thead>\n",
       "    <tr style=\"text-align: right;\">\n",
       "      <th></th>\n",
       "      <th>diameter</th>\n",
       "      <th>weight</th>\n",
       "      <th>red</th>\n",
       "      <th>green</th>\n",
       "      <th>blue</th>\n",
       "    </tr>\n",
       "  </thead>\n",
       "  <tbody>\n",
       "    <tr>\n",
       "      <th>0</th>\n",
       "      <td>2.96</td>\n",
       "      <td>86.76</td>\n",
       "      <td>172</td>\n",
       "      <td>85</td>\n",
       "      <td>2</td>\n",
       "    </tr>\n",
       "    <tr>\n",
       "      <th>1</th>\n",
       "      <td>3.91</td>\n",
       "      <td>88.05</td>\n",
       "      <td>166</td>\n",
       "      <td>78</td>\n",
       "      <td>3</td>\n",
       "    </tr>\n",
       "    <tr>\n",
       "      <th>2</th>\n",
       "      <td>4.42</td>\n",
       "      <td>95.17</td>\n",
       "      <td>156</td>\n",
       "      <td>81</td>\n",
       "      <td>2</td>\n",
       "    </tr>\n",
       "    <tr>\n",
       "      <th>3</th>\n",
       "      <td>4.47</td>\n",
       "      <td>95.60</td>\n",
       "      <td>163</td>\n",
       "      <td>81</td>\n",
       "      <td>4</td>\n",
       "    </tr>\n",
       "    <tr>\n",
       "      <th>4</th>\n",
       "      <td>4.48</td>\n",
       "      <td>95.76</td>\n",
       "      <td>161</td>\n",
       "      <td>72</td>\n",
       "      <td>9</td>\n",
       "    </tr>\n",
       "    <tr>\n",
       "      <th>...</th>\n",
       "      <td>...</td>\n",
       "      <td>...</td>\n",
       "      <td>...</td>\n",
       "      <td>...</td>\n",
       "      <td>...</td>\n",
       "    </tr>\n",
       "    <tr>\n",
       "      <th>9995</th>\n",
       "      <td>15.35</td>\n",
       "      <td>253.89</td>\n",
       "      <td>149</td>\n",
       "      <td>77</td>\n",
       "      <td>20</td>\n",
       "    </tr>\n",
       "    <tr>\n",
       "      <th>9996</th>\n",
       "      <td>15.41</td>\n",
       "      <td>254.67</td>\n",
       "      <td>148</td>\n",
       "      <td>68</td>\n",
       "      <td>7</td>\n",
       "    </tr>\n",
       "    <tr>\n",
       "      <th>9997</th>\n",
       "      <td>15.59</td>\n",
       "      <td>256.50</td>\n",
       "      <td>168</td>\n",
       "      <td>82</td>\n",
       "      <td>20</td>\n",
       "    </tr>\n",
       "    <tr>\n",
       "      <th>9998</th>\n",
       "      <td>15.92</td>\n",
       "      <td>260.14</td>\n",
       "      <td>142</td>\n",
       "      <td>72</td>\n",
       "      <td>11</td>\n",
       "    </tr>\n",
       "    <tr>\n",
       "      <th>9999</th>\n",
       "      <td>16.45</td>\n",
       "      <td>261.51</td>\n",
       "      <td>152</td>\n",
       "      <td>74</td>\n",
       "      <td>2</td>\n",
       "    </tr>\n",
       "  </tbody>\n",
       "</table>\n",
       "<p>10000 rows × 5 columns</p>\n",
       "</div>"
      ],
      "text/plain": [
       "      diameter  weight  red  green  blue\n",
       "0         2.96   86.76  172     85     2\n",
       "1         3.91   88.05  166     78     3\n",
       "2         4.42   95.17  156     81     2\n",
       "3         4.47   95.60  163     81     4\n",
       "4         4.48   95.76  161     72     9\n",
       "...        ...     ...  ...    ...   ...\n",
       "9995     15.35  253.89  149     77    20\n",
       "9996     15.41  254.67  148     68     7\n",
       "9997     15.59  256.50  168     82    20\n",
       "9998     15.92  260.14  142     72    11\n",
       "9999     16.45  261.51  152     74     2\n",
       "\n",
       "[10000 rows x 5 columns]"
      ]
     },
     "execution_count": 124,
     "metadata": {},
     "output_type": "execute_result"
    }
   ],
   "source": [
    "# x, y 분리\n",
    "\n",
    "X = df.iloc[:, 1:]  # 모든 row, name을 제외한 모든 column 가져오기\n",
    "X     # 독립변수"
   ]
  },
  {
   "cell_type": "code",
   "execution_count": 125,
   "id": "0982b3c7",
   "metadata": {
    "scrolled": true
   },
   "outputs": [
    {
     "data": {
      "text/plain": [
       "0       1\n",
       "1       1\n",
       "2       1\n",
       "3       1\n",
       "4       1\n",
       "       ..\n",
       "9995    0\n",
       "9996    0\n",
       "9997    0\n",
       "9998    0\n",
       "9999    0\n",
       "Name: name, Length: 10000, dtype: int32"
      ]
     },
     "execution_count": 125,
     "metadata": {},
     "output_type": "execute_result"
    }
   ],
   "source": [
    "y = df.iloc[:,0]\n",
    "y    # 종속변수"
   ]
  },
  {
   "cell_type": "markdown",
   "id": "9f4dd8c8",
   "metadata": {},
   "source": [
    "1. 슬라이싱 방법\n",
    "2. train_test_split"
   ]
  },
  {
   "cell_type": "code",
   "execution_count": 126,
   "id": "ea3973b0",
   "metadata": {},
   "outputs": [],
   "source": [
    "# # 학습 / 테스트 분리\n",
    "\n",
    "# # 1. 슬라이싱 방법\n",
    "# X, y = sklearn.utils.shuffle(X,y)   # 데이터 셔플\n",
    "\n",
    "# idx = int(df.shape[0] * 0.8)\n",
    "\n",
    "# X_train = X.iloc[:idx, :]  \n",
    "# X_test = X.iloc[idx:,:]\n",
    "# y_train = y[:idx]\n",
    "# y_test = y[idx:]"
   ]
  },
  {
   "cell_type": "code",
   "execution_count": 127,
   "id": "e05181c8",
   "metadata": {},
   "outputs": [],
   "source": [
    "# X_train.shape, X_test.shape"
   ]
  },
  {
   "cell_type": "code",
   "execution_count": 128,
   "id": "3f0d2608",
   "metadata": {},
   "outputs": [],
   "source": [
    "# y_train.shape, y_test.shape"
   ]
  },
  {
   "cell_type": "code",
   "execution_count": 129,
   "id": "8f9d73ad",
   "metadata": {},
   "outputs": [],
   "source": [
    "# # 데이터가 분리될 때 sort되어있는 데이터의 경우 데이터가 불균형하게 분리될 수 있음\n",
    "# y_train.value_counts()  "
   ]
  },
  {
   "cell_type": "code",
   "execution_count": 130,
   "id": "6ed315b2",
   "metadata": {},
   "outputs": [],
   "source": [
    "# # 1. 슬라이싱 방법\n",
    "# X, y = sklearn.utils.shuffle(X,y)   # 데이터 셔플 과정 추가\n",
    "\n",
    "# idx = int(df.shape[0] * 0.8)\n",
    "\n",
    "# X_train = X.iloc[:idx, :]  \n",
    "# X_test = X.iloc[idx:,:]\n",
    "# y_train = y[:idx]\n",
    "# y_test = y[idx:]\n"
   ]
  },
  {
   "cell_type": "code",
   "execution_count": 131,
   "id": "2c56c315",
   "metadata": {},
   "outputs": [],
   "source": [
    "# y_train.value_counts()"
   ]
  },
  {
   "cell_type": "code",
   "execution_count": 132,
   "id": "fced2701",
   "metadata": {},
   "outputs": [],
   "source": [
    "# 2. train_test_split\n",
    "from sklearn.model_selection import train_test_split\n",
    "\n",
    "X_train, X_test, y_train, y_test = train_test_split(X,y, test_size=0.2, random_state=2022, stratify=y, shuffle=True)  # stratify : 훈련/테스트에 값이 균일하게 넣어줌"
   ]
  },
  {
   "cell_type": "code",
   "execution_count": 133,
   "id": "16191534",
   "metadata": {},
   "outputs": [
    {
     "data": {
      "text/plain": [
       "((8000, 5), (2000, 5))"
      ]
     },
     "execution_count": 133,
     "metadata": {},
     "output_type": "execute_result"
    }
   ],
   "source": [
    "X_train.shape, X_test.shape"
   ]
  },
  {
   "cell_type": "markdown",
   "id": "5189eda2",
   "metadata": {},
   "source": [
    "#### 3) 스케일링\n",
    "- 표준화 : 해당 컬럼의 평균과 표준편차를 0과 1로 만듦\n",
    "---"
   ]
  },
  {
   "cell_type": "code",
   "execution_count": 134,
   "id": "89a738ba",
   "metadata": {},
   "outputs": [],
   "source": [
    "# # 1. 표준화 과정\n",
    "# m = X_train['diameter'].mean()\n",
    "# s = X_train['diameter'].std()\n",
    "\n",
    "# z = (X_train['diameter']-m) / s"
   ]
  },
  {
   "cell_type": "code",
   "execution_count": 135,
   "id": "297b761a",
   "metadata": {},
   "outputs": [
    {
     "data": {
      "text/plain": [
       "numpy.ndarray"
      ]
     },
     "execution_count": 135,
     "metadata": {},
     "output_type": "execute_result"
    }
   ],
   "source": [
    "# 1. 표준화\n",
    "from sklearn.preprocessing import StandardScaler\n",
    "\n",
    "ss = StandardScaler() \n",
    "ss.fit(X_train)\n",
    "X_train_scaled = ss.transform(X_train)   # 스케일링 진행, array 형식으로 출력됨\n",
    "type(X_train_scaled)"
   ]
  },
  {
   "cell_type": "code",
   "execution_count": 136,
   "id": "1e63f61c",
   "metadata": {},
   "outputs": [
    {
     "data": {
      "text/plain": [
       "array([[-1.61852607, -1.60693378,  0.48456216,  1.45730586, -0.92140149],\n",
       "       [-0.59932084, -0.75195291, -1.42739703, -1.02134167, -0.81169288],\n",
       "       [-1.31122801, -1.31556395,  0.00657236,  0.00430558,  0.39510185],\n",
       "       [ 0.35330314,  0.32573973,  1.15374787,  1.02995284,  0.8339363 ],\n",
       "       [-2.12044623, -2.05508996, -0.18462356,  0.68807042,  0.61451907]])"
      ]
     },
     "execution_count": 136,
     "metadata": {},
     "output_type": "execute_result"
    }
   ],
   "source": [
    "X_train_scaled[:5]  # 표준화 결과 확인"
   ]
  },
  {
   "cell_type": "code",
   "execution_count": 137,
   "id": "e3d3bacb",
   "metadata": {},
   "outputs": [
    {
     "data": {
      "text/plain": [
       "numpy.ndarray"
      ]
     },
     "execution_count": 137,
     "metadata": {},
     "output_type": "execute_result"
    }
   ],
   "source": [
    "y_train = y_train.to_numpy()   # y_train도 넘파이 형태로 변환\n",
    "\n",
    "type(y_train)"
   ]
  },
  {
   "cell_type": "markdown",
   "id": "83cc4c74",
   "metadata": {},
   "source": [
    "### 모델 학습\n",
    "---"
   ]
  },
  {
   "cell_type": "code",
   "execution_count": 138,
   "id": "1a012caa",
   "metadata": {
    "scrolled": true
   },
   "outputs": [
    {
     "data": {
      "text/plain": [
       "KNeighborsClassifier()"
      ]
     },
     "execution_count": 138,
     "metadata": {},
     "output_type": "execute_result"
    }
   ],
   "source": [
    "# 학습\n",
    "from sklearn.neighbors import KNeighborsClassifier\n",
    "\n",
    "clf = KNeighborsClassifier()  \n",
    "# clf = KNeighborsClassifier(n_neighbors=6)   # k의 개수를 튜닝할 수 있음, 디폴트는 5\n",
    "clf.fit(X_train_scaled, y_train)  # 지도학습에는 스케일링 된 feature와 정답 데이터 모두 넣어줘야 함"
   ]
  },
  {
   "cell_type": "markdown",
   "id": "09b33b5f",
   "metadata": {},
   "source": [
    "### 테스트 \n",
    "---"
   ]
  },
  {
   "cell_type": "code",
   "execution_count": 139,
   "id": "e5c7a7b4",
   "metadata": {
    "scrolled": true
   },
   "outputs": [
    {
     "data": {
      "text/plain": [
       "array([[-0.45079345, -0.43701389,  3.25690297,  0.17524679, -0.81169288],\n",
       "       [-0.04618434, -0.08176814,  0.3889642 , -0.08116502, -0.48256704],\n",
       "       [ 0.50695217,  0.50062995, -0.0890256 ,  0.4316586 ,  0.61451907],\n",
       "       [ 0.88595311,  0.90164774, -1.04500519, -0.85040046,  0.17568463],\n",
       "       [-0.90149727, -0.89917494,  0.67575807, -0.16663563,  0.17568463]])"
      ]
     },
     "execution_count": 139,
     "metadata": {},
     "output_type": "execute_result"
    }
   ],
   "source": [
    "X_test_scaled = ss.transform(X_test)\n",
    "X_test_scaled[:5]"
   ]
  },
  {
   "cell_type": "code",
   "execution_count": 140,
   "id": "c746300c",
   "metadata": {},
   "outputs": [],
   "source": [
    "# 예측값\n",
    "y_pred = clf.predict(X_test_scaled)"
   ]
  },
  {
   "cell_type": "code",
   "execution_count": 141,
   "id": "6663c311",
   "metadata": {},
   "outputs": [
    {
     "data": {
      "text/plain": [
       "array([1, 0, 0, ..., 1, 1, 1])"
      ]
     },
     "execution_count": 141,
     "metadata": {},
     "output_type": "execute_result"
    }
   ],
   "source": [
    "y_pred"
   ]
  },
  {
   "cell_type": "code",
   "execution_count": 143,
   "id": "608f2590",
   "metadata": {},
   "outputs": [
    {
     "data": {
      "text/plain": [
       "0.9205"
      ]
     },
     "execution_count": 143,
     "metadata": {},
     "output_type": "execute_result"
    }
   ],
   "source": [
    "# 정확도\n",
    "(y_pred == y_test).sum() / X_test.shape[0]"
   ]
  },
  {
   "cell_type": "markdown",
   "id": "5db3111b",
   "metadata": {},
   "source": [
    "### 평가\n",
    "---"
   ]
  },
  {
   "cell_type": "code",
   "execution_count": 144,
   "id": "13bb6fd3",
   "metadata": {},
   "outputs": [
    {
     "data": {
      "text/plain": [
       "array([[915,  85],\n",
       "       [ 74, 926]], dtype=int64)"
      ]
     },
     "execution_count": 144,
     "metadata": {},
     "output_type": "execute_result"
    }
   ],
   "source": [
    "# confusion matrix\n",
    "from sklearn.metrics import confusion_matrix\n",
    "\n",
    "cfm = confusion_matrix(y_test, y_pred)   # (정답값, 예측값)\n",
    "cfm"
   ]
  },
  {
   "cell_type": "code",
   "execution_count": 146,
   "id": "6bc2c383",
   "metadata": {},
   "outputs": [
    {
     "data": {
      "image/png": "[encoded data removed]",
      "text/plain": [
       "<Figure size 432x288 with 2 Axes>"
      ]
     },
     "metadata": {
      "needs_background": "light"
     },
     "output_type": "display_data"
    }
   ],
   "source": [
    "plt.figure(figsize=(6,4))\n",
    "sns.heatmap(cfm, annot=True)\n",
    "plt.show()"
   ]
  },
  {
   "cell_type": "code",
   "execution_count": 151,
   "id": "e07fb1a0",
   "metadata": {},
   "outputs": [
    {
     "data": {
      "image/png": "[encoded data removed]",
      "text/plain": [
       "<Figure size 432x288 with 1 Axes>"
      ]
     },
     "metadata": {
      "needs_background": "light"
     },
     "output_type": "display_data"
    }
   ],
   "source": [
    "plt.figure(figsize=(6,4))\n",
    "sns.heatmap(cfm, annot=True, fmt='g', cbar=False, cmap='Blues')  # fmt : 포멧을 int형으로 설정\n",
    "plt.ylabel('Active Class')\n",
    "plt.xlabel('Predicted Class')\n",
    "plt.show()"
   ]
  },
  {
   "cell_type": "code",
   "execution_count": 152,
   "id": "4118e5c3",
   "metadata": {
    "scrolled": true
   },
   "outputs": [
    {
     "name": "stdout",
     "output_type": "stream",
     "text": [
      "정확도 : 0.9205\n",
      "정밀도 : 0.9159248269040554\n",
      "재현율 : 0.926\n"
     ]
    }
   ],
   "source": [
    "from sklearn.metrics import accuracy_score, precision_score, recall_score\n",
    "\n",
    "print(f'정확도 : {accuracy_score(y_test, y_pred)}') \n",
    "print(f'정밀도 : {precision_score(y_test, y_pred)}')\n",
    "print(f'재현율 : {recall_score(y_test, y_pred)}') "
   ]
  },
  {
   "cell_type": "markdown",
   "id": "ec2a80f1",
   "metadata": {},
   "source": [
    "### 최적의 k값 찾기"
   ]
  },
  {
   "cell_type": "code",
   "execution_count": 182,
   "id": "e6303a17",
   "metadata": {},
   "outputs": [],
   "source": [
    "# 최적의 k값 찾기\n",
    "\n",
    "# # X_train 스케일링\n",
    "# X_train_scaled = ss.transform(X_train)   # 스케일링 진행, array 형식으로 출력됨\n",
    "\n",
    "# # X_test 스케일링 \n",
    "# X_test_scaled = ss.transform(X_test)\n",
    "\n",
    "acc_scores = []\n",
    "for k in range(3,30):\n",
    "    clf1 = KNeighborsClassifier(n_neighbors = k)\n",
    "    clf1.fit(X_train_scaled, y_train)\n",
    "    \n",
    "    y_pred = clf1.predict(X_test_scaled)\n",
    "    acc_scores.append(accuracy_score(y_test, y_pred))\n",
    "    "
   ]
  },
  {
   "cell_type": "code",
   "execution_count": 176,
   "id": "f12841b6",
   "metadata": {},
   "outputs": [
    {
     "data": {
      "text/plain": [
       "28"
      ]
     },
     "execution_count": 176,
     "metadata": {},
     "output_type": "execute_result"
    }
   ],
   "source": [
    "np.argmax(acc_scores)  # 최대값 인덱스 출력"
   ]
  },
  {
   "cell_type": "code",
   "execution_count": 189,
   "id": "a87df1ef",
   "metadata": {},
   "outputs": [
    {
     "data": {
      "image/png": "[encoded data removed]",
      "text/plain": [
       "<Figure size 432x288 with 1 Axes>"
      ]
     },
     "metadata": {
      "needs_background": "light"
     },
     "output_type": "display_data"
    }
   ],
   "source": [
    "plt.plot(range(3,30), acc_scores)\n",
    "plt.show()"
   ]
  },
  {
   "cell_type": "markdown",
   "id": "d7d4988a",
   "metadata": {},
   "source": [
    "### 교차 검증\n",
    "- K-Fold\n",
    "---"
   ]
  },
  {
   "cell_type": "code",
   "execution_count": 191,
   "id": "d496066a",
   "metadata": {},
   "outputs": [
    {
     "data": {
      "text/plain": [
       "(8000, 5)"
      ]
     },
     "execution_count": 191,
     "metadata": {},
     "output_type": "execute_result"
    }
   ],
   "source": [
    "X_train_scaled.shape  "
   ]
  },
  {
   "cell_type": "code",
   "execution_count": 198,
   "id": "64a9dbd4",
   "metadata": {},
   "outputs": [
    {
     "name": "stdout",
     "output_type": "stream",
     "text": [
      " 정확도 : 0.9193749999999999\n"
     ]
    }
   ],
   "source": [
    "from sklearn.model_selection import KFold\n",
    "\n",
    "kf = KFold(n_splits=5, shuffle=True, random_state=2022)  # n_splits : 8000개를 다섯 개로 나눔\n",
    "acc_scores=[]\n",
    "for train_idx, val_idx in kf.split(X_train_scaled):\n",
    "    train_x, val_x = X_train_scaled[train_idx], X_train_scaled[val_idx]\n",
    "    train_y, val_y = y_train[train_idx], y_train[val_idx]\n",
    "    \n",
    "    \n",
    "    model = KNeighborsClassifier(n_neighbors=5)\n",
    "    model.fit(train_x, train_y)\n",
    "    y_pred = model.predict(val_x)\n",
    "    acc_scores.append(accuracy_score(val_y, y_pred))\n",
    "    \n",
    "\n",
    "print(f' 정확도 : {np.array(acc_scores).mean()}')"
   ]
  },
  {
   "cell_type": "code",
   "execution_count": 203,
   "id": "93bb49a0",
   "metadata": {},
   "outputs": [
    {
     "data": {
      "text/plain": [
       "2"
      ]
     },
     "execution_count": 203,
     "metadata": {},
     "output_type": "execute_result"
    }
   ],
   "source": [
    "kf = KFold(n_splits=5, shuffle=True, random_state=2022)  # n_splits : 8000개를 다섯 개로 나눔\n",
    "acc_scores=[]\n",
    "for train_idx, val_idx in kf.split(X_train_scaled):\n",
    "    train_x, val_x = X_train_scaled[train_idx], X_train_scaled[val_idx]\n",
    "    train_y, val_y = y_train[train_idx], y_train[val_idx]\n",
    "    \n",
    "    \n",
    "    model = KNeighborsClassifier(n_neighbors=5)\n",
    "    model.fit(train_x, train_y)\n",
    "    y_pred = model.predict(val_x)\n",
    "    acc_scores.append(accuracy_score(val_y, y_pred))\n",
    "    \n",
    "np.argmax(acc_scores)"
   ]
  },
  {
   "cell_type": "code",
   "execution_count": 205,
   "id": "97e6aa40",
   "metadata": {},
   "outputs": [],
   "source": [
    "from sklearn.model_selection import KFold\n",
    "hist = []\n",
    "for k in range(3,50):\n",
    "    kf = KFold(n_splits=5, shuffle=True, random_state=2022)  # n_splits : 8000개를 다섯 개로 나눔\n",
    "    acc_scores=[]\n",
    "    \n",
    "    for train_idx, val_idx in kf.split(X_train_scaled):\n",
    "        train_x, val_x = X_train_scaled[train_idx], X_train_scaled[val_idx]\n",
    "        train_y, val_y = y_train[train_idx], y_train[val_idx]\n",
    "        \n",
    "        model = KNeighborsClassifier(n_neighbors=k)\n",
    "        model.fit(train_x, train_y)\n",
    "        y_pred = model.predict(val_x)\n",
    "        acc_scores.append(accuracy_score(val_y, y_pred))\n",
    "    \n",
    "    hist.append(np.array(acc_scores).mean())\n"
   ]
  },
  {
   "cell_type": "code",
   "execution_count": null,
   "id": "e629badc",
   "metadata": {},
   "outputs": [],
   "source": [
    "# pip install tqdm   # 어느정도 진행되고 있는지 확인\n",
    "# from tqdm import tqdm\n",
    "\n",
    "# for k in tqdm(range(3,50)):\n",
    "#     ..."
   ]
  },
  {
   "cell_type": "code",
   "execution_count": 206,
   "id": "458dcba6",
   "metadata": {},
   "outputs": [],
   "source": [
    "# cross_val_score으로 위 코드 구현\n",
    "\n",
    "from sklearn.model_selection import cross_val_score\n",
    "\n",
    "hist = []\n",
    "\n",
    "for k in range(3,50):\n",
    "    model = KNeighborsClassifier(n_neighbors=k)\n",
    "    scores = cross_val_score(model, X_train_scaled, y_train, cv=5, scoring='accuracy')\n",
    "    \n",
    "    hist.append(scores.mean())"
   ]
  },
  {
   "cell_type": "code",
   "execution_count": 207,
   "id": "a4d869af",
   "metadata": {},
   "outputs": [
    {
     "data": {
      "text/plain": [
       "39"
      ]
     },
     "execution_count": 207,
     "metadata": {},
     "output_type": "execute_result"
    }
   ],
   "source": [
    "np.argmax(hist)"
   ]
  },
  {
   "cell_type": "code",
   "execution_count": null,
   "id": "cceb6f76",
   "metadata": {},
   "outputs": [],
   "source": []
  }
 ],
 "metadata": {
  "kernelspec": {
   "display_name": "Python 3 (ipykernel)",
   "language": "python",
   "name": "python3"
  },
  "language_info": {
   "codemirror_mode": {
    "name": "ipython",
    "version": 3
   },
   "file_extension": ".py",
   "mimetype": "text/x-python",
   "name": "python",
   "nbconvert_exporter": "python",
   "pygments_lexer": "ipython3",
   "version": "3.9.12"
  }
 },
 "nbformat": 4,
 "nbformat_minor": 5
}
